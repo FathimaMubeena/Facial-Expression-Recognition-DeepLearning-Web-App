{
 "cells": [
  {
   "cell_type": "code",
   "execution_count": 1,
   "id": "initial_id",
   "metadata": {
    "collapsed": true,
    "ExecuteTime": {
     "end_time": "2024-09-08T21:06:46.050235Z",
     "start_time": "2024-09-08T21:06:45.418024Z"
    }
   },
   "outputs": [],
   "source": [
    "import numpy as np\n",
    "import pandas as pd\n",
    "import os"
   ]
  },
  {
   "cell_type": "code",
   "execution_count": 2,
   "outputs": [],
   "source": [
    "os.getcwd()\n",
    "train_path = 'src/resources/train.csv'\n",
    "test_path = 'src/resources/test.csv'"
   ],
   "metadata": {
    "collapsed": false,
    "ExecuteTime": {
     "end_time": "2024-09-08T21:06:46.053633Z",
     "start_time": "2024-09-08T21:06:46.051823Z"
    }
   },
   "id": "3a8eb90e476cc03e"
  },
  {
   "cell_type": "code",
   "execution_count": 3,
   "outputs": [],
   "source": [
    "data_train = pd.read_csv('src/main/resources/train.csv')\n",
    "data_test = pd.read_csv('src/main/resources/test.csv')"
   ],
   "metadata": {
    "collapsed": false,
    "ExecuteTime": {
     "end_time": "2024-09-08T21:06:48.356791Z",
     "start_time": "2024-09-08T21:06:46.054413Z"
    }
   },
   "id": "8c49b295f9cf0ac8"
  },
  {
   "cell_type": "code",
   "execution_count": 4,
   "outputs": [
    {
     "data": {
      "text/plain": "Index(['emotion', 'pixels'], dtype='object')"
     },
     "execution_count": 4,
     "metadata": {},
     "output_type": "execute_result"
    }
   ],
   "source": [
    "data_train.columns"
   ],
   "metadata": {
    "collapsed": false,
    "ExecuteTime": {
     "end_time": "2024-09-08T21:06:48.365637Z",
     "start_time": "2024-09-08T21:06:48.359253Z"
    }
   },
   "id": "65577940ebc77ccb"
  },
  {
   "cell_type": "code",
   "execution_count": 5,
   "outputs": [
    {
     "data": {
      "text/plain": "Index(['pixels'], dtype='object')"
     },
     "execution_count": 5,
     "metadata": {},
     "output_type": "execute_result"
    }
   ],
   "source": [
    "data_test.columns"
   ],
   "metadata": {
    "collapsed": false,
    "ExecuteTime": {
     "end_time": "2024-09-08T21:06:51.044005Z",
     "start_time": "2024-09-08T21:06:51.037028Z"
    }
   },
   "id": "350bb4ccbe2d6ea6"
  },
  {
   "cell_type": "code",
   "execution_count": 6,
   "outputs": [
    {
     "data": {
      "text/plain": "emotion    28709\npixels     28709\ndtype: int64"
     },
     "execution_count": 6,
     "metadata": {},
     "output_type": "execute_result"
    }
   ],
   "source": [
    "data_train.count()"
   ],
   "metadata": {
    "collapsed": false,
    "ExecuteTime": {
     "end_time": "2024-09-08T21:06:56.018455Z",
     "start_time": "2024-09-08T21:06:56.016113Z"
    }
   },
   "id": "4249d7df1a603948"
  },
  {
   "cell_type": "markdown",
   "source": [
    "# Data Distribution of Target Variable"
   ],
   "metadata": {
    "collapsed": false
   },
   "id": "bf0d00f4b432daf7"
  },
  {
   "cell_type": "code",
   "execution_count": null,
   "outputs": [],
   "source": [],
   "metadata": {
    "collapsed": false
   },
   "id": "1c2b1d382835e9f9"
  },
  {
   "cell_type": "code",
   "execution_count": 15,
   "outputs": [],
   "source": [
    "# Check if 'emotion' column exists in the DataFrames\n",
    "if 'emotion' not in data_train.columns:\n",
    "    raise KeyError(\"The 'emotion' column is missing from the dataset.\")"
   ],
   "metadata": {
    "collapsed": false,
    "ExecuteTime": {
     "end_time": "2024-09-06T23:01:34.017203Z",
     "start_time": "2024-09-06T23:01:34.012587Z"
    }
   },
   "id": "c32dc690f57ed80f"
  },
  {
   "cell_type": "code",
   "execution_count": 7,
   "outputs": [
    {
     "data": {
      "text/plain": "emotion\n3    7215\n6    4965\n4    4830\n2    4097\n0    3995\n5    3171\n1     436\nName: count, dtype: int64"
     },
     "execution_count": 7,
     "metadata": {},
     "output_type": "execute_result"
    }
   ],
   "source": [
    "data_train.emotion.value_counts()"
   ],
   "metadata": {
    "collapsed": false,
    "ExecuteTime": {
     "end_time": "2024-09-08T21:07:08.626221Z",
     "start_time": "2024-09-08T21:07:08.619732Z"
    }
   },
   "id": "503b632101e11a4d"
  },
  {
   "cell_type": "code",
   "execution_count": 8,
   "outputs": [
    {
     "data": {
      "text/plain": "<Axes: xlabel='emotion'>"
     },
     "execution_count": 8,
     "metadata": {},
     "output_type": "execute_result"
    },
    {
     "data": {
      "text/plain": "<Figure size 640x480 with 1 Axes>",
      "image/png": "[encoded data removed]"
     },
     "metadata": {},
     "output_type": "display_data"
    }
   ],
   "source": [
    "data_train.emotion.value_counts().plot(kind='bar')"
   ],
   "metadata": {
    "collapsed": false,
    "ExecuteTime": {
     "end_time": "2024-09-08T21:07:16.258391Z",
     "start_time": "2024-09-08T21:07:15.622681Z"
    }
   },
   "id": "cf3c868d23bf5cf2"
  },
  {
   "cell_type": "markdown",
   "source": [
    "# fix the data distribition by oversampling"
   ],
   "metadata": {
    "collapsed": false
   },
   "id": "1ef77615dc1116de"
  },
  {
   "cell_type": "code",
   "execution_count": 10,
   "outputs": [],
   "source": [
    "from sklearn.utils import resample\n",
    "\n",
    "# Calculate the maximum count of samples in any class\n",
    "max_count = data_train['emotion'].value_counts().max()"
   ],
   "metadata": {
    "collapsed": false,
    "ExecuteTime": {
     "end_time": "2024-09-08T21:10:04.218453Z",
     "start_time": "2024-09-08T21:10:03.381649Z"
    }
   },
   "id": "30a2012c8439918d"
  },
  {
   "cell_type": "code",
   "execution_count": 11,
   "outputs": [],
   "source": [
    "# Function to oversample a dataframe to the desired count\n",
    "def oversample(df, count):\n",
    "    return resample(df, replace=True, n_samples=count, random_state=42)\n"
   ],
   "metadata": {
    "collapsed": false,
    "ExecuteTime": {
     "end_time": "2024-09-08T21:10:13.012493Z",
     "start_time": "2024-09-08T21:10:13.007240Z"
    }
   },
   "id": "48c86e5681232882"
  },
  {
   "cell_type": "code",
   "execution_count": 15,
   "outputs": [],
   "source": [
    "# Oversample each class to match the maximum count\n",
    "df_0_oversampled = oversample(df_0, max_count)\n",
    "df_1_oversampled = oversample(df_1, max_count)\n",
    "df_2_oversampled = oversample(df_2, max_count)\n",
    "df_3_oversampled = oversample(df_3, max_count)\n",
    "df_4_oversampled = oversample(df_4, max_count)\n",
    "df_5_oversampled = oversample(df_5, max_count)\n",
    "df_6_oversampled = oversample(df_6, max_count)"
   ],
   "metadata": {
    "collapsed": false,
    "ExecuteTime": {
     "end_time": "2024-09-08T21:11:00.942762Z",
     "start_time": "2024-09-08T21:11:00.932986Z"
    }
   },
   "id": "5740e2b68987bb1a"
  },
  {
   "cell_type": "code",
   "execution_count": 16,
   "outputs": [],
   "source": [
    "\n",
    "# Concatenate all oversampled dataframes to create a balanced dataset\n",
    "data_train_balanced = pd.concat([df_0_oversampled, df_1_oversampled, df_2_oversampled, df_3_oversampled, df_4_oversampled, df_5_oversampled, df_6_oversampled])\n",
    "\n",
    "# Shuffle the balanced dataset\n",
    "data_train_balanced = data_train_balanced.sample(frac=1, random_state=42).reset_index(drop=True)"
   ],
   "metadata": {
    "collapsed": false,
    "ExecuteTime": {
     "end_time": "2024-09-08T21:11:02.781478Z",
     "start_time": "2024-09-08T21:11:02.772927Z"
    }
   },
   "id": "dc984dfd2bc0301c"
  },
  {
   "cell_type": "code",
   "execution_count": 17,
   "outputs": [
    {
     "data": {
      "text/plain": "<Axes: xlabel='emotion'>"
     },
     "execution_count": 17,
     "metadata": {},
     "output_type": "execute_result"
    },
    {
     "data": {
      "text/plain": "<Figure size 640x480 with 1 Axes>",
      "image/png": "[encoded data removed]"
     },
     "metadata": {},
     "output_type": "display_data"
    }
   ],
   "source": [
    "data_train_balanced.emotion.value_counts().plot(kind='bar')"
   ],
   "metadata": {
    "collapsed": false,
    "ExecuteTime": {
     "end_time": "2024-09-08T21:11:22.964232Z",
     "start_time": "2024-09-08T21:11:22.911112Z"
    }
   },
   "id": "985585b8f101cf8b"
  },
  {
   "cell_type": "code",
   "execution_count": null,
   "outputs": [],
   "source": [],
   "metadata": {
    "collapsed": false
   },
   "id": "503e7a2b155871f0"
  }
 ],
 "metadata": {
  "kernelspec": {
   "display_name": "Python 3",
   "language": "python",
   "name": "python3"
  },
  "language_info": {
   "codemirror_mode": {
    "name": "ipython",
    "version": 2
   },
   "file_extension": ".py",
   "mimetype": "text/x-python",
   "name": "python",
   "nbconvert_exporter": "python",
   "pygments_lexer": "ipython2",
   "version": "2.7.6"
  }
 },
 "nbformat": 4,
 "nbformat_minor": 5
}
